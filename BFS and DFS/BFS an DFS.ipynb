{
 "cells": [
  {
   "cell_type": "markdown",
   "metadata": {},
   "source": [
    "# BFS"
   ]
  },
  {
   "cell_type": "code",
   "execution_count": 28,
   "metadata": {},
   "outputs": [
    {
     "name": "stdout",
     "output_type": "stream",
     "text": [
      "defaultdict(<class 'list'>, {})\n",
      "defaultdict(<class 'list'>, {0: [1, 4], 4: [0], 1: [0, 2, 7], 2: [1, 3], 3: [2, 5, 6], 5: [3], 6: [3, 7], 7: [1, 6]})\n",
      "2\n",
      "1\n",
      "3\n",
      "0\n",
      "7\n",
      "5\n",
      "6\n",
      "4\n"
     ]
    }
   ],
   "source": [
    "from collections import defaultdict\n",
    "class Graph:\n",
    "    def __init__(self):\n",
    "        self.graph=defaultdict(list)\n",
    "        print(self.graph)\n",
    "    def addEdge(self,u,v):\n",
    "        self.graph[u].append(v)\n",
    "    def BFS(self,s):\n",
    "        queue=[]\n",
    "        visited=[False]*len(self.graph)\n",
    "        queue.append(s)\n",
    "        visited[s]=True\n",
    "        while queue:\n",
    "            e=queue.pop(0)\n",
    "            print(e)\n",
    "            for i in self.graph[e]:\n",
    "                if visited[i]==False:\n",
    "                    queue.append(i)\n",
    "                    visited[i]=True\n",
    "                    \n",
    "        \n",
    "        \n",
    "    \n",
    "g=Graph()\n",
    "g.addEdge(0,1)\n",
    "g.addEdge(0,4)\n",
    "g.addEdge(4,0)\n",
    "g.addEdge(1,0)\n",
    "g.addEdge(1,2)\n",
    "g.addEdge(1,7)\n",
    "g.addEdge(2,1)\n",
    "g.addEdge(2,3)\n",
    "g.addEdge(3,2)\n",
    "g.addEdge(3,5)\n",
    "g.addEdge(3,6)\n",
    "g.addEdge(5,3)\n",
    "g.addEdge(6,3)\n",
    "g.addEdge(6,7)\n",
    "g.addEdge(7,1)\n",
    "g.addEdge(7,6)\n",
    "print(g.graph)\n",
    "g.BFS(2)\n"
   ]
  },
  {
   "cell_type": "markdown",
   "metadata": {},
   "source": [
    "# DFS"
   ]
  },
  {
   "cell_type": "code",
   "execution_count": 33,
   "metadata": {},
   "outputs": [
    {
     "name": "stdout",
     "output_type": "stream",
     "text": [
      "defaultdict(<class 'list'>, {0: [1, 4], 4: [0], 1: [0, 2, 7], 2: [1, 3], 3: [2, 5, 6], 5: [3], 6: [3, 7], 7: [1, 6]})\n",
      "2\n",
      "1\n",
      "0\n",
      "4\n",
      "7\n",
      "6\n",
      "3\n",
      "5\n"
     ]
    }
   ],
   "source": [
    "from collections import defaultdict\n",
    "\n",
    "class Graph:\n",
    "    def __init__(self):\n",
    "        self.graph=defaultdict(list)\n",
    "    def addEdge(self, u ,v):\n",
    "        self.graph[u].append(v)\n",
    "    def dfsLoop(self, s , visited):\n",
    "        visited[s]= True\n",
    "        print(s)\n",
    "        for i in self.graph[s]:\n",
    "            if visited[i]==False:\n",
    "                self.dfsLoop(i, visited)\n",
    "        \n",
    "        \n",
    "    def DFS(self, s):\n",
    "        visited = [False]*len(self.graph)\n",
    "        self.dfsLoop(s, visited)\n",
    "g=Graph()\n",
    "g.addEdge(0,1)\n",
    "g.addEdge(0,4)\n",
    "g.addEdge(4,0)\n",
    "g.addEdge(1,0)\n",
    "g.addEdge(1,2)\n",
    "g.addEdge(1,7)\n",
    "g.addEdge(2,1)\n",
    "g.addEdge(2,3)\n",
    "g.addEdge(3,2)\n",
    "g.addEdge(3,5)\n",
    "g.addEdge(3,6)\n",
    "g.addEdge(5,3)\n",
    "g.addEdge(6,3)\n",
    "g.addEdge(6,7)\n",
    "g.addEdge(7,1)\n",
    "g.addEdge(7,6)\n",
    "print(g.graph)\n",
    "g.DFS(2)"
   ]
  },
  {
   "cell_type": "markdown",
   "metadata": {},
   "source": [
    "# DFS for Disconnected Graph"
   ]
  },
  {
   "cell_type": "code",
   "execution_count": 36,
   "metadata": {},
   "outputs": [
    {
     "name": "stdout",
     "output_type": "stream",
     "text": [
      "defaultdict(<class 'list'>, {0: [1, 4], 4: [0], 1: [0, 2, 7], 2: [1, 3], 3: [2, 5, 6], 5: [3], 6: [3, 7], 7: [1, 6]})\n",
      "0->1->2->3->5->6->7->4->"
     ]
    }
   ],
   "source": [
    "from collections import defaultdict\n",
    "\n",
    "class Graph:\n",
    "    def __init__(self):\n",
    "        self.graph=defaultdict(list)\n",
    "    def addEdge(self, u ,v):\n",
    "        self.graph[u].append(v)\n",
    "    def dfsLoop(self, s , visited):\n",
    "        visited[s]= True\n",
    "        print(s,end=\"->\")\n",
    "        for i in self.graph[s]:\n",
    "            if visited[i]==False:\n",
    "                self.dfsLoop(i, visited)\n",
    "        \n",
    "        \n",
    "    def DFS(self):\n",
    "        V=len(self.graph)\n",
    "        visited = [False]*V\n",
    "        for  i in range(V):\n",
    "            if visited[i]==False:\n",
    "                self.dfsLoop(i, visited)\n",
    "g=Graph()\n",
    "g.addEdge(0,1)\n",
    "g.addEdge(0,4)\n",
    "g.addEdge(4,0)\n",
    "g.addEdge(1,0)\n",
    "g.addEdge(1,2)\n",
    "g.addEdge(1,7)\n",
    "g.addEdge(2,1)\n",
    "g.addEdge(2,3)\n",
    "g.addEdge(3,2)\n",
    "g.addEdge(3,5)\n",
    "g.addEdge(3,6)\n",
    "g.addEdge(5,3)\n",
    "g.addEdge(6,3)\n",
    "g.addEdge(6,7)\n",
    "g.addEdge(7,1)\n",
    "g.addEdge(7,6)\n",
    "print(g.graph)\n",
    "g.DFS()"
   ]
  },
  {
   "cell_type": "code",
   "execution_count": 55,
   "metadata": {},
   "outputs": [
    {
     "name": "stdout",
     "output_type": "stream",
     "text": [
      "defaultdict(<class 'list'>, {1: [2], 2: [1, 3], 3: [4, 8, 2], 4: [5, 7, 3], 5: [4, 6], 6: [5, 7, 15], 7: [6, 4, 8], 8: [7, 3, 9], 9: [8, 2, 10], 10: [1, 9], 11: [10, 12], 12: [9, 11, 13], 13: [8, 12, 14], 14: [7, 13, 15], 15: [14, 6]})\n",
      "-1\n",
      "None\n"
     ]
    }
   ],
   "source": [
    "from collections import defaultdict\n",
    "import sys\n",
    "class Graph:\n",
    "    def __init__(self):\n",
    "        self.graph=defaultdict(list)\n",
    "        self.cnt=sys.maxsize\n",
    "        self.count=0\n",
    "    def addEdge(self, u ,v):\n",
    "        self.graph[u].append(v)\n",
    "        \n",
    "    def dfsLoop(self, s , visited):\n",
    "        visited[s]= True\n",
    "        for i in self.graph[s]:\n",
    "            if i==15:\n",
    "                self.count+=1\n",
    "                visited[i]=True\n",
    "                print(self.count)\n",
    "                self.count if self.cnt>self.count else self.cnt\n",
    "                \n",
    "            if visited[i]==False:\n",
    "                self.count+=1\n",
    "                self.dfsLoop(i, visited)\n",
    "            else:\n",
    "                self.count-=1\n",
    "        return self.cnt\n",
    "        \n",
    "        \n",
    "    def DFS(self, s):\n",
    "        visited = [False]*(len(self.graph)+1)\n",
    "        self.dfsLoop(s, visited)\n",
    "g=Graph()\n",
    "g.addEdge(1,2)\n",
    "g.addEdge(2,1)\n",
    "g.addEdge(2,3)\n",
    "g.addEdge(3,4)\n",
    "g.addEdge(3,8)\n",
    "g.addEdge(3,2)\n",
    "g.addEdge(4,5)\n",
    "g.addEdge(4,7)\n",
    "g.addEdge(4,3)\n",
    "g.addEdge(5,4)\n",
    "g.addEdge(5,6)\n",
    "g.addEdge(6,5)\n",
    "g.addEdge(6,7)\n",
    "g.addEdge(6,15)\n",
    "g.addEdge(7,6)\n",
    "g.addEdge(7,4)\n",
    "g.addEdge(7,8)\n",
    "g.addEdge(8,7)\n",
    "g.addEdge(8,3)\n",
    "g.addEdge(8,9)\n",
    "g.addEdge(9,8)\n",
    "g.addEdge(9,2)\n",
    "g.addEdge(9,10)\n",
    "g.addEdge(10,1)\n",
    "g.addEdge(10,9)\n",
    "g.addEdge(11,10)\n",
    "g.addEdge(11,12)\n",
    "g.addEdge(12,9)\n",
    "g.addEdge(12,11)\n",
    "g.addEdge(12,13)\n",
    "g.addEdge(13,8)\n",
    "g.addEdge(13,12)\n",
    "g.addEdge(13,14)\n",
    "g.addEdge(14,7)\n",
    "g.addEdge(14,13)\n",
    "g.addEdge(14,15)\n",
    "g.addEdge(15,14)\n",
    "g.addEdge(15,6)\n",
    "\n",
    "print(g.graph)\n",
    "print(g.DFS(1))"
   ]
  },
  {
   "cell_type": "code",
   "execution_count": null,
   "metadata": {},
   "outputs": [],
   "source": []
  }
 ],
 "metadata": {
  "kernelspec": {
   "display_name": "Python 3",
   "language": "python",
   "name": "python3"
  },
  "language_info": {
   "codemirror_mode": {
    "name": "ipython",
    "version": 3
   },
   "file_extension": ".py",
   "mimetype": "text/x-python",
   "name": "python",
   "nbconvert_exporter": "python",
   "pygments_lexer": "ipython3",
   "version": "3.7.1"
  }
 },
 "nbformat": 4,
 "nbformat_minor": 2
}
